{
 "cells": [
  {
   "cell_type": "markdown",
   "metadata": {},
   "source": [
    "# Covid 19 Data from Channel ASIA \n",
    "\n",
    "https://infographics.channelnewsasia.com/covid-19/map.html"
   ]
  },
  {
   "cell_type": "code",
   "execution_count": 5,
   "metadata": {},
   "outputs": [],
   "source": [
    "import pandas as pd\n",
    "import numpy as np\n",
    "import seaborn as sns   # Why sns?  It's a reference to The West Wing\n",
    "import matplotlib.pyplot as plt  # seaborn is based on matplotlib\n",
    "sns.set(color_codes=True) # adds a nice background to the graphs\n",
    "%matplotlib inline "
   ]
  },
  {
   "cell_type": "code",
   "execution_count": 35,
   "metadata": {},
   "outputs": [],
   "source": [
    "# remove scientific notation and display numbers with 2 decimal points instead\n",
    "pd.options.display.float_format = '{:,.2f}'.format"
   ]
  },
  {
   "cell_type": "markdown",
   "metadata": {},
   "source": [
    "### Getting data"
   ]
  },
  {
   "cell_type": "code",
   "execution_count": 104,
   "metadata": {},
   "outputs": [],
   "source": [
    "dataUrl = \"https://infographics.channelnewsasia.com/covid-19/newrec2.csv\""
   ]
  },
  {
   "cell_type": "code",
   "execution_count": 105,
   "metadata": {},
   "outputs": [],
   "source": [
    "data = pd.read_csv(dataUrl)"
   ]
  },
  {
   "cell_type": "markdown",
   "metadata": {},
   "source": [
    "### Analysing it"
   ]
  },
  {
   "cell_type": "markdown",
   "metadata": {},
   "source": [
    "FIPS codes are numbers which uniquely identify geographic areas. The number of digits in FIPS codes vary depending on the level of geography. State-level FIPS codes have two digits, county-level FIPS codes have five digits of which the first two are the FIPS code of the state to which the county belongs."
   ]
  },
  {
   "cell_type": "code",
   "execution_count": 106,
   "metadata": {},
   "outputs": [
    {
     "data": {
      "text/html": [
       "<div>\n",
       "<style scoped>\n",
       "    .dataframe tbody tr th:only-of-type {\n",
       "        vertical-align: middle;\n",
       "    }\n",
       "\n",
       "    .dataframe tbody tr th {\n",
       "        vertical-align: top;\n",
       "    }\n",
       "\n",
       "    .dataframe thead th {\n",
       "        text-align: right;\n",
       "    }\n",
       "</style>\n",
       "<table border=\"1\" class=\"dataframe\">\n",
       "  <thead>\n",
       "    <tr style=\"text-align: right;\">\n",
       "      <th></th>\n",
       "      <th>FIPS</th>\n",
       "      <th>Admin2</th>\n",
       "      <th>Province_State</th>\n",
       "      <th>Country_Region</th>\n",
       "      <th>Last_Update</th>\n",
       "      <th>Lat</th>\n",
       "      <th>Long_</th>\n",
       "      <th>Confirmed</th>\n",
       "      <th>Deaths</th>\n",
       "      <th>Recovered</th>\n",
       "      <th>Active</th>\n",
       "      <th>Combined_Key</th>\n",
       "    </tr>\n",
       "  </thead>\n",
       "  <tbody>\n",
       "    <tr>\n",
       "      <th>0</th>\n",
       "      <td>45,001.00</td>\n",
       "      <td>Abbeville</td>\n",
       "      <td>South Carolina</td>\n",
       "      <td>US</td>\n",
       "      <td>2020-04-04 23:34:21</td>\n",
       "      <td>34.22</td>\n",
       "      <td>-82.46</td>\n",
       "      <td>6</td>\n",
       "      <td>0</td>\n",
       "      <td>0</td>\n",
       "      <td>0</td>\n",
       "      <td>Abbeville, South Carolina, US</td>\n",
       "    </tr>\n",
       "    <tr>\n",
       "      <th>1</th>\n",
       "      <td>22,001.00</td>\n",
       "      <td>Acadia</td>\n",
       "      <td>Louisiana</td>\n",
       "      <td>US</td>\n",
       "      <td>2020-04-04 23:34:21</td>\n",
       "      <td>30.30</td>\n",
       "      <td>-92.41</td>\n",
       "      <td>65</td>\n",
       "      <td>2</td>\n",
       "      <td>0</td>\n",
       "      <td>0</td>\n",
       "      <td>Acadia, Louisiana, US</td>\n",
       "    </tr>\n",
       "    <tr>\n",
       "      <th>2</th>\n",
       "      <td>51,001.00</td>\n",
       "      <td>Accomack</td>\n",
       "      <td>Virginia</td>\n",
       "      <td>US</td>\n",
       "      <td>2020-04-04 23:34:21</td>\n",
       "      <td>37.77</td>\n",
       "      <td>-75.63</td>\n",
       "      <td>8</td>\n",
       "      <td>0</td>\n",
       "      <td>0</td>\n",
       "      <td>0</td>\n",
       "      <td>Accomack, Virginia, US</td>\n",
       "    </tr>\n",
       "    <tr>\n",
       "      <th>3</th>\n",
       "      <td>16,001.00</td>\n",
       "      <td>Ada</td>\n",
       "      <td>Idaho</td>\n",
       "      <td>US</td>\n",
       "      <td>2020-04-04 23:34:21</td>\n",
       "      <td>43.45</td>\n",
       "      <td>-116.24</td>\n",
       "      <td>360</td>\n",
       "      <td>3</td>\n",
       "      <td>0</td>\n",
       "      <td>0</td>\n",
       "      <td>Ada, Idaho, US</td>\n",
       "    </tr>\n",
       "    <tr>\n",
       "      <th>4</th>\n",
       "      <td>19,001.00</td>\n",
       "      <td>Adair</td>\n",
       "      <td>Iowa</td>\n",
       "      <td>US</td>\n",
       "      <td>2020-04-04 23:34:21</td>\n",
       "      <td>41.33</td>\n",
       "      <td>-94.47</td>\n",
       "      <td>1</td>\n",
       "      <td>0</td>\n",
       "      <td>0</td>\n",
       "      <td>0</td>\n",
       "      <td>Adair, Iowa, US</td>\n",
       "    </tr>\n",
       "  </tbody>\n",
       "</table>\n",
       "</div>"
      ],
      "text/plain": [
       "       FIPS     Admin2  Province_State Country_Region          Last_Update  \\\n",
       "0 45,001.00  Abbeville  South Carolina             US  2020-04-04 23:34:21   \n",
       "1 22,001.00     Acadia       Louisiana             US  2020-04-04 23:34:21   \n",
       "2 51,001.00   Accomack        Virginia             US  2020-04-04 23:34:21   \n",
       "3 16,001.00        Ada           Idaho             US  2020-04-04 23:34:21   \n",
       "4 19,001.00      Adair            Iowa             US  2020-04-04 23:34:21   \n",
       "\n",
       "    Lat   Long_  Confirmed  Deaths  Recovered  Active  \\\n",
       "0 34.22  -82.46          6       0          0       0   \n",
       "1 30.30  -92.41         65       2          0       0   \n",
       "2 37.77  -75.63          8       0          0       0   \n",
       "3 43.45 -116.24        360       3          0       0   \n",
       "4 41.33  -94.47          1       0          0       0   \n",
       "\n",
       "                    Combined_Key  \n",
       "0  Abbeville, South Carolina, US  \n",
       "1          Acadia, Louisiana, US  \n",
       "2         Accomack, Virginia, US  \n",
       "3                 Ada, Idaho, US  \n",
       "4                Adair, Iowa, US  "
      ]
     },
     "execution_count": 106,
     "metadata": {},
     "output_type": "execute_result"
    }
   ],
   "source": [
    "data.head()"
   ]
  },
  {
   "cell_type": "code",
   "execution_count": 107,
   "metadata": {},
   "outputs": [
    {
     "data": {
      "text/html": [
       "<div>\n",
       "<style scoped>\n",
       "    .dataframe tbody tr th:only-of-type {\n",
       "        vertical-align: middle;\n",
       "    }\n",
       "\n",
       "    .dataframe tbody tr th {\n",
       "        vertical-align: top;\n",
       "    }\n",
       "\n",
       "    .dataframe thead th {\n",
       "        text-align: right;\n",
       "    }\n",
       "</style>\n",
       "<table border=\"1\" class=\"dataframe\">\n",
       "  <thead>\n",
       "    <tr style=\"text-align: right;\">\n",
       "      <th></th>\n",
       "      <th>count</th>\n",
       "      <th>unique</th>\n",
       "      <th>top</th>\n",
       "      <th>freq</th>\n",
       "      <th>mean</th>\n",
       "      <th>std</th>\n",
       "      <th>min</th>\n",
       "      <th>25%</th>\n",
       "      <th>50%</th>\n",
       "      <th>75%</th>\n",
       "      <th>max</th>\n",
       "    </tr>\n",
       "  </thead>\n",
       "  <tbody>\n",
       "    <tr>\n",
       "      <th>FIPS</th>\n",
       "      <td>2,399.00</td>\n",
       "      <td>NaN</td>\n",
       "      <td>NaN</td>\n",
       "      <td>NaN</td>\n",
       "      <td>30,729.94</td>\n",
       "      <td>17,051.14</td>\n",
       "      <td>66.00</td>\n",
       "      <td>18,048.00</td>\n",
       "      <td>29,051.00</td>\n",
       "      <td>45,062.00</td>\n",
       "      <td>99,999.00</td>\n",
       "    </tr>\n",
       "    <tr>\n",
       "      <th>Admin2</th>\n",
       "      <td>2414</td>\n",
       "      <td>1478</td>\n",
       "      <td>Unassigned</td>\n",
       "      <td>37</td>\n",
       "      <td>NaN</td>\n",
       "      <td>NaN</td>\n",
       "      <td>NaN</td>\n",
       "      <td>NaN</td>\n",
       "      <td>NaN</td>\n",
       "      <td>NaN</td>\n",
       "      <td>NaN</td>\n",
       "    </tr>\n",
       "    <tr>\n",
       "      <th>Province_State</th>\n",
       "      <td>2502</td>\n",
       "      <td>136</td>\n",
       "      <td>Texas</td>\n",
       "      <td>152</td>\n",
       "      <td>NaN</td>\n",
       "      <td>NaN</td>\n",
       "      <td>NaN</td>\n",
       "      <td>NaN</td>\n",
       "      <td>NaN</td>\n",
       "      <td>NaN</td>\n",
       "      <td>NaN</td>\n",
       "    </tr>\n",
       "    <tr>\n",
       "      <th>Country_Region</th>\n",
       "      <td>2679</td>\n",
       "      <td>181</td>\n",
       "      <td>US</td>\n",
       "      <td>2421</td>\n",
       "      <td>NaN</td>\n",
       "      <td>NaN</td>\n",
       "      <td>NaN</td>\n",
       "      <td>NaN</td>\n",
       "      <td>NaN</td>\n",
       "      <td>NaN</td>\n",
       "      <td>NaN</td>\n",
       "    </tr>\n",
       "    <tr>\n",
       "      <th>Last_Update</th>\n",
       "      <td>2679</td>\n",
       "      <td>35</td>\n",
       "      <td>2020-04-04 23:34:21</td>\n",
       "      <td>2421</td>\n",
       "      <td>NaN</td>\n",
       "      <td>NaN</td>\n",
       "      <td>NaN</td>\n",
       "      <td>NaN</td>\n",
       "      <td>NaN</td>\n",
       "      <td>NaN</td>\n",
       "      <td>NaN</td>\n",
       "    </tr>\n",
       "    <tr>\n",
       "      <th>Lat</th>\n",
       "      <td>2,627.00</td>\n",
       "      <td>NaN</td>\n",
       "      <td>NaN</td>\n",
       "      <td>NaN</td>\n",
       "      <td>36.39</td>\n",
       "      <td>10.32</td>\n",
       "      <td>-51.80</td>\n",
       "      <td>33.60</td>\n",
       "      <td>37.77</td>\n",
       "      <td>41.46</td>\n",
       "      <td>71.71</td>\n",
       "    </tr>\n",
       "    <tr>\n",
       "      <th>Long_</th>\n",
       "      <td>2,627.00</td>\n",
       "      <td>NaN</td>\n",
       "      <td>NaN</td>\n",
       "      <td>NaN</td>\n",
       "      <td>-79.57</td>\n",
       "      <td>42.25</td>\n",
       "      <td>-159.60</td>\n",
       "      <td>-95.15</td>\n",
       "      <td>-86.72</td>\n",
       "      <td>-80.38</td>\n",
       "      <td>178.06</td>\n",
       "    </tr>\n",
       "    <tr>\n",
       "      <th>Confirmed</th>\n",
       "      <td>2,679.00</td>\n",
       "      <td>NaN</td>\n",
       "      <td>NaN</td>\n",
       "      <td>NaN</td>\n",
       "      <td>446.96</td>\n",
       "      <td>4,931.62</td>\n",
       "      <td>0.00</td>\n",
       "      <td>3.00</td>\n",
       "      <td>9.00</td>\n",
       "      <td>42.50</td>\n",
       "      <td>126,168.00</td>\n",
       "    </tr>\n",
       "    <tr>\n",
       "      <th>Deaths</th>\n",
       "      <td>2,679.00</td>\n",
       "      <td>NaN</td>\n",
       "      <td>NaN</td>\n",
       "      <td>NaN</td>\n",
       "      <td>24.12</td>\n",
       "      <td>427.05</td>\n",
       "      <td>0.00</td>\n",
       "      <td>0.00</td>\n",
       "      <td>0.00</td>\n",
       "      <td>1.00</td>\n",
       "      <td>15,362.00</td>\n",
       "    </tr>\n",
       "    <tr>\n",
       "      <th>Recovered</th>\n",
       "      <td>2,679.00</td>\n",
       "      <td>NaN</td>\n",
       "      <td>NaN</td>\n",
       "      <td>NaN</td>\n",
       "      <td>91.88</td>\n",
       "      <td>1,653.00</td>\n",
       "      <td>0.00</td>\n",
       "      <td>0.00</td>\n",
       "      <td>0.00</td>\n",
       "      <td>0.00</td>\n",
       "      <td>63,762.00</td>\n",
       "    </tr>\n",
       "    <tr>\n",
       "      <th>Active</th>\n",
       "      <td>2,679.00</td>\n",
       "      <td>NaN</td>\n",
       "      <td>NaN</td>\n",
       "      <td>NaN</td>\n",
       "      <td>220.48</td>\n",
       "      <td>3,197.94</td>\n",
       "      <td>0.00</td>\n",
       "      <td>0.00</td>\n",
       "      <td>0.00</td>\n",
       "      <td>0.00</td>\n",
       "      <td>88,274.00</td>\n",
       "    </tr>\n",
       "    <tr>\n",
       "      <th>Combined_Key</th>\n",
       "      <td>2679</td>\n",
       "      <td>2679</td>\n",
       "      <td>Albany, Wyoming, US</td>\n",
       "      <td>1</td>\n",
       "      <td>NaN</td>\n",
       "      <td>NaN</td>\n",
       "      <td>NaN</td>\n",
       "      <td>NaN</td>\n",
       "      <td>NaN</td>\n",
       "      <td>NaN</td>\n",
       "      <td>NaN</td>\n",
       "    </tr>\n",
       "  </tbody>\n",
       "</table>\n",
       "</div>"
      ],
      "text/plain": [
       "                  count unique                  top  freq      mean       std  \\\n",
       "FIPS           2,399.00    NaN                  NaN   NaN 30,729.94 17,051.14   \n",
       "Admin2             2414   1478           Unassigned    37       NaN       NaN   \n",
       "Province_State     2502    136                Texas   152       NaN       NaN   \n",
       "Country_Region     2679    181                   US  2421       NaN       NaN   \n",
       "Last_Update        2679     35  2020-04-04 23:34:21  2421       NaN       NaN   \n",
       "Lat            2,627.00    NaN                  NaN   NaN     36.39     10.32   \n",
       "Long_          2,627.00    NaN                  NaN   NaN    -79.57     42.25   \n",
       "Confirmed      2,679.00    NaN                  NaN   NaN    446.96  4,931.62   \n",
       "Deaths         2,679.00    NaN                  NaN   NaN     24.12    427.05   \n",
       "Recovered      2,679.00    NaN                  NaN   NaN     91.88  1,653.00   \n",
       "Active         2,679.00    NaN                  NaN   NaN    220.48  3,197.94   \n",
       "Combined_Key       2679   2679  Albany, Wyoming, US     1       NaN       NaN   \n",
       "\n",
       "                   min       25%       50%       75%        max  \n",
       "FIPS             66.00 18,048.00 29,051.00 45,062.00  99,999.00  \n",
       "Admin2             NaN       NaN       NaN       NaN        NaN  \n",
       "Province_State     NaN       NaN       NaN       NaN        NaN  \n",
       "Country_Region     NaN       NaN       NaN       NaN        NaN  \n",
       "Last_Update        NaN       NaN       NaN       NaN        NaN  \n",
       "Lat             -51.80     33.60     37.77     41.46      71.71  \n",
       "Long_          -159.60    -95.15    -86.72    -80.38     178.06  \n",
       "Confirmed         0.00      3.00      9.00     42.50 126,168.00  \n",
       "Deaths            0.00      0.00      0.00      1.00  15,362.00  \n",
       "Recovered         0.00      0.00      0.00      0.00  63,762.00  \n",
       "Active            0.00      0.00      0.00      0.00  88,274.00  \n",
       "Combined_Key       NaN       NaN       NaN       NaN        NaN  "
      ]
     },
     "execution_count": 107,
     "metadata": {},
     "output_type": "execute_result"
    }
   ],
   "source": [
    "data.describe(include='all').transpose()"
   ]
  },
  {
   "cell_type": "markdown",
   "metadata": {},
   "source": [
    "### Getting only places with confirmed cases"
   ]
  },
  {
   "cell_type": "code",
   "execution_count": 108,
   "metadata": {},
   "outputs": [
    {
     "name": "stdout",
     "output_type": "stream",
     "text": [
      "Places without confirmed cases 19\n"
     ]
    }
   ],
   "source": [
    "# data[data['Confirmed'].isna()]\n",
    "# data[data['Confirmed'].isnull()]\n",
    "noCasesConfirmed = data[data['Confirmed'] == 0]\n",
    "print(\"Places without confirmed cases\", noCasesConfirmed.shape[0])"
   ]
  },
  {
   "cell_type": "code",
   "execution_count": 115,
   "metadata": {},
   "outputs": [],
   "source": [
    "dataConfirmed = data[data['Confirmed'] > 0].copy()"
   ]
  },
  {
   "cell_type": "code",
   "execution_count": 116,
   "metadata": {},
   "outputs": [
    {
     "name": "stdout",
     "output_type": "stream",
     "text": [
      "Confirmed places with Covid-19 (2660, 12)\n"
     ]
    }
   ],
   "source": [
    "print(\"Confirmed places with Covid-19\", dataConfirmed.shape)"
   ]
  },
  {
   "cell_type": "markdown",
   "metadata": {},
   "source": [
    "### Filtering places with wrong data, Confirmed < Deaths "
   ]
  },
  {
   "cell_type": "code",
   "execution_count": 118,
   "metadata": {},
   "outputs": [
    {
     "data": {
      "text/html": [
       "<div>\n",
       "<style scoped>\n",
       "    .dataframe tbody tr th:only-of-type {\n",
       "        vertical-align: middle;\n",
       "    }\n",
       "\n",
       "    .dataframe tbody tr th {\n",
       "        vertical-align: top;\n",
       "    }\n",
       "\n",
       "    .dataframe thead th {\n",
       "        text-align: right;\n",
       "    }\n",
       "</style>\n",
       "<table border=\"1\" class=\"dataframe\">\n",
       "  <thead>\n",
       "    <tr style=\"text-align: right;\">\n",
       "      <th></th>\n",
       "      <th>FIPS</th>\n",
       "      <th>Admin2</th>\n",
       "      <th>Province_State</th>\n",
       "      <th>Country_Region</th>\n",
       "      <th>Last_Update</th>\n",
       "      <th>Lat</th>\n",
       "      <th>Long_</th>\n",
       "      <th>Confirmed</th>\n",
       "      <th>Deaths</th>\n",
       "      <th>Recovered</th>\n",
       "      <th>Active</th>\n",
       "      <th>Combined_Key</th>\n",
       "    </tr>\n",
       "  </thead>\n",
       "  <tbody>\n",
       "    <tr>\n",
       "      <th>2161</th>\n",
       "      <td>90,027.00</td>\n",
       "      <td>Unassigned</td>\n",
       "      <td>Minnesota</td>\n",
       "      <td>US</td>\n",
       "      <td>2020-04-04 23:34:21</td>\n",
       "      <td>nan</td>\n",
       "      <td>nan</td>\n",
       "      <td>2</td>\n",
       "      <td>5</td>\n",
       "      <td>0</td>\n",
       "      <td>0</td>\n",
       "      <td>Unassigned, Minnesota, US</td>\n",
       "    </tr>\n",
       "    <tr>\n",
       "      <th>2176</th>\n",
       "      <td>90,050.00</td>\n",
       "      <td>Unassigned</td>\n",
       "      <td>Vermont</td>\n",
       "      <td>US</td>\n",
       "      <td>2020-04-04 23:34:21</td>\n",
       "      <td>nan</td>\n",
       "      <td>nan</td>\n",
       "      <td>11</td>\n",
       "      <td>15</td>\n",
       "      <td>0</td>\n",
       "      <td>0</td>\n",
       "      <td>Unassigned, Vermont, US</td>\n",
       "    </tr>\n",
       "  </tbody>\n",
       "</table>\n",
       "</div>"
      ],
      "text/plain": [
       "          FIPS      Admin2 Province_State Country_Region          Last_Update  \\\n",
       "2161 90,027.00  Unassigned      Minnesota             US  2020-04-04 23:34:21   \n",
       "2176 90,050.00  Unassigned        Vermont             US  2020-04-04 23:34:21   \n",
       "\n",
       "      Lat  Long_  Confirmed  Deaths  Recovered  Active  \\\n",
       "2161  nan    nan          2       5          0       0   \n",
       "2176  nan    nan         11      15          0       0   \n",
       "\n",
       "                   Combined_Key  \n",
       "2161  Unassigned, Minnesota, US  \n",
       "2176    Unassigned, Vermont, US  "
      ]
     },
     "execution_count": 118,
     "metadata": {},
     "output_type": "execute_result"
    }
   ],
   "source": [
    "invalidData = dataConfirmed[dataConfirmed['Confirmed'] < dataConfirmed['Deaths']].copy()\n",
    "invalidData"
   ]
  },
  {
   "cell_type": "code",
   "execution_count": 119,
   "metadata": {},
   "outputs": [],
   "source": [
    "dataConfirmed = dataConfirmed[dataConfirmed['Confirmed'] >= dataConfirmed['Deaths']].copy()"
   ]
  },
  {
   "cell_type": "code",
   "execution_count": 219,
   "metadata": {},
   "outputs": [
    {
     "name": "stdout",
     "output_type": "stream",
     "text": [
      "Confirmed places with Covid-19 2658\n"
     ]
    }
   ],
   "source": [
    "print(\"Confirmed places with Covid-19\", dataConfirmed.shape[0])"
   ]
  },
  {
   "cell_type": "code",
   "execution_count": 126,
   "metadata": {},
   "outputs": [
    {
     "data": {
      "text/html": [
       "<div>\n",
       "<style scoped>\n",
       "    .dataframe tbody tr th:only-of-type {\n",
       "        vertical-align: middle;\n",
       "    }\n",
       "\n",
       "    .dataframe tbody tr th {\n",
       "        vertical-align: top;\n",
       "    }\n",
       "\n",
       "    .dataframe thead th {\n",
       "        text-align: right;\n",
       "    }\n",
       "</style>\n",
       "<table border=\"1\" class=\"dataframe\">\n",
       "  <thead>\n",
       "    <tr style=\"text-align: right;\">\n",
       "      <th></th>\n",
       "      <th>count</th>\n",
       "      <th>unique</th>\n",
       "      <th>top</th>\n",
       "      <th>freq</th>\n",
       "      <th>mean</th>\n",
       "      <th>std</th>\n",
       "      <th>min</th>\n",
       "      <th>25%</th>\n",
       "      <th>50%</th>\n",
       "      <th>75%</th>\n",
       "      <th>max</th>\n",
       "    </tr>\n",
       "  </thead>\n",
       "  <tbody>\n",
       "    <tr>\n",
       "      <th>FIPS</th>\n",
       "      <td>2,382.00</td>\n",
       "      <td>NaN</td>\n",
       "      <td>NaN</td>\n",
       "      <td>NaN</td>\n",
       "      <td>30,310.93</td>\n",
       "      <td>16,370.44</td>\n",
       "      <td>66.00</td>\n",
       "      <td>18,039.50</td>\n",
       "      <td>29,033.00</td>\n",
       "      <td>45,036.50</td>\n",
       "      <td>99,999.00</td>\n",
       "    </tr>\n",
       "    <tr>\n",
       "      <th>Admin2</th>\n",
       "      <td>2396</td>\n",
       "      <td>1476</td>\n",
       "      <td>Washington</td>\n",
       "      <td>29</td>\n",
       "      <td>NaN</td>\n",
       "      <td>NaN</td>\n",
       "      <td>NaN</td>\n",
       "      <td>NaN</td>\n",
       "      <td>NaN</td>\n",
       "      <td>NaN</td>\n",
       "      <td>NaN</td>\n",
       "    </tr>\n",
       "    <tr>\n",
       "      <th>Province_State</th>\n",
       "      <td>2481</td>\n",
       "      <td>135</td>\n",
       "      <td>Texas</td>\n",
       "      <td>152</td>\n",
       "      <td>NaN</td>\n",
       "      <td>NaN</td>\n",
       "      <td>NaN</td>\n",
       "      <td>NaN</td>\n",
       "      <td>NaN</td>\n",
       "      <td>NaN</td>\n",
       "      <td>NaN</td>\n",
       "    </tr>\n",
       "    <tr>\n",
       "      <th>Country_Region</th>\n",
       "      <td>2658</td>\n",
       "      <td>181</td>\n",
       "      <td>US</td>\n",
       "      <td>2402</td>\n",
       "      <td>NaN</td>\n",
       "      <td>NaN</td>\n",
       "      <td>NaN</td>\n",
       "      <td>NaN</td>\n",
       "      <td>NaN</td>\n",
       "      <td>NaN</td>\n",
       "      <td>NaN</td>\n",
       "    </tr>\n",
       "    <tr>\n",
       "      <th>Last_Update</th>\n",
       "      <td>2658</td>\n",
       "      <td>35</td>\n",
       "      <td>2020-04-04 23:34:21</td>\n",
       "      <td>2402</td>\n",
       "      <td>NaN</td>\n",
       "      <td>NaN</td>\n",
       "      <td>NaN</td>\n",
       "      <td>NaN</td>\n",
       "      <td>NaN</td>\n",
       "      <td>NaN</td>\n",
       "      <td>NaN</td>\n",
       "    </tr>\n",
       "    <tr>\n",
       "      <th>Lat</th>\n",
       "      <td>2,627.00</td>\n",
       "      <td>NaN</td>\n",
       "      <td>NaN</td>\n",
       "      <td>NaN</td>\n",
       "      <td>36.39</td>\n",
       "      <td>10.32</td>\n",
       "      <td>-51.80</td>\n",
       "      <td>33.60</td>\n",
       "      <td>37.77</td>\n",
       "      <td>41.46</td>\n",
       "      <td>71.71</td>\n",
       "    </tr>\n",
       "    <tr>\n",
       "      <th>Long_</th>\n",
       "      <td>2,627.00</td>\n",
       "      <td>NaN</td>\n",
       "      <td>NaN</td>\n",
       "      <td>NaN</td>\n",
       "      <td>-79.57</td>\n",
       "      <td>42.25</td>\n",
       "      <td>-159.60</td>\n",
       "      <td>-95.15</td>\n",
       "      <td>-86.72</td>\n",
       "      <td>-80.38</td>\n",
       "      <td>178.06</td>\n",
       "    </tr>\n",
       "    <tr>\n",
       "      <th>Confirmed</th>\n",
       "      <td>2,658.00</td>\n",
       "      <td>NaN</td>\n",
       "      <td>NaN</td>\n",
       "      <td>NaN</td>\n",
       "      <td>450.49</td>\n",
       "      <td>4,950.91</td>\n",
       "      <td>1.00</td>\n",
       "      <td>3.00</td>\n",
       "      <td>9.00</td>\n",
       "      <td>43.00</td>\n",
       "      <td>126,168.00</td>\n",
       "    </tr>\n",
       "    <tr>\n",
       "      <th>Deaths</th>\n",
       "      <td>2,658.00</td>\n",
       "      <td>NaN</td>\n",
       "      <td>NaN</td>\n",
       "      <td>NaN</td>\n",
       "      <td>23.83</td>\n",
       "      <td>428.15</td>\n",
       "      <td>0.00</td>\n",
       "      <td>0.00</td>\n",
       "      <td>0.00</td>\n",
       "      <td>1.00</td>\n",
       "      <td>15,362.00</td>\n",
       "    </tr>\n",
       "    <tr>\n",
       "      <th>Recovered</th>\n",
       "      <td>2,658.00</td>\n",
       "      <td>NaN</td>\n",
       "      <td>NaN</td>\n",
       "      <td>NaN</td>\n",
       "      <td>86.13</td>\n",
       "      <td>1,634.56</td>\n",
       "      <td>0.00</td>\n",
       "      <td>0.00</td>\n",
       "      <td>0.00</td>\n",
       "      <td>0.00</td>\n",
       "      <td>63,762.00</td>\n",
       "    </tr>\n",
       "    <tr>\n",
       "      <th>Active</th>\n",
       "      <td>2,658.00</td>\n",
       "      <td>NaN</td>\n",
       "      <td>NaN</td>\n",
       "      <td>NaN</td>\n",
       "      <td>222.22</td>\n",
       "      <td>3,210.49</td>\n",
       "      <td>0.00</td>\n",
       "      <td>0.00</td>\n",
       "      <td>0.00</td>\n",
       "      <td>0.00</td>\n",
       "      <td>88,274.00</td>\n",
       "    </tr>\n",
       "    <tr>\n",
       "      <th>Combined_Key</th>\n",
       "      <td>2658</td>\n",
       "      <td>2658</td>\n",
       "      <td>Albany, Wyoming, US</td>\n",
       "      <td>1</td>\n",
       "      <td>NaN</td>\n",
       "      <td>NaN</td>\n",
       "      <td>NaN</td>\n",
       "      <td>NaN</td>\n",
       "      <td>NaN</td>\n",
       "      <td>NaN</td>\n",
       "      <td>NaN</td>\n",
       "    </tr>\n",
       "  </tbody>\n",
       "</table>\n",
       "</div>"
      ],
      "text/plain": [
       "                  count unique                  top  freq      mean       std  \\\n",
       "FIPS           2,382.00    NaN                  NaN   NaN 30,310.93 16,370.44   \n",
       "Admin2             2396   1476           Washington    29       NaN       NaN   \n",
       "Province_State     2481    135                Texas   152       NaN       NaN   \n",
       "Country_Region     2658    181                   US  2402       NaN       NaN   \n",
       "Last_Update        2658     35  2020-04-04 23:34:21  2402       NaN       NaN   \n",
       "Lat            2,627.00    NaN                  NaN   NaN     36.39     10.32   \n",
       "Long_          2,627.00    NaN                  NaN   NaN    -79.57     42.25   \n",
       "Confirmed      2,658.00    NaN                  NaN   NaN    450.49  4,950.91   \n",
       "Deaths         2,658.00    NaN                  NaN   NaN     23.83    428.15   \n",
       "Recovered      2,658.00    NaN                  NaN   NaN     86.13  1,634.56   \n",
       "Active         2,658.00    NaN                  NaN   NaN    222.22  3,210.49   \n",
       "Combined_Key       2658   2658  Albany, Wyoming, US     1       NaN       NaN   \n",
       "\n",
       "                   min       25%       50%       75%        max  \n",
       "FIPS             66.00 18,039.50 29,033.00 45,036.50  99,999.00  \n",
       "Admin2             NaN       NaN       NaN       NaN        NaN  \n",
       "Province_State     NaN       NaN       NaN       NaN        NaN  \n",
       "Country_Region     NaN       NaN       NaN       NaN        NaN  \n",
       "Last_Update        NaN       NaN       NaN       NaN        NaN  \n",
       "Lat             -51.80     33.60     37.77     41.46      71.71  \n",
       "Long_          -159.60    -95.15    -86.72    -80.38     178.06  \n",
       "Confirmed         1.00      3.00      9.00     43.00 126,168.00  \n",
       "Deaths            0.00      0.00      0.00      1.00  15,362.00  \n",
       "Recovered         0.00      0.00      0.00      0.00  63,762.00  \n",
       "Active            0.00      0.00      0.00      0.00  88,274.00  \n",
       "Combined_Key       NaN       NaN       NaN       NaN        NaN  "
      ]
     },
     "execution_count": 126,
     "metadata": {},
     "output_type": "execute_result"
    }
   ],
   "source": [
    "dataConfirmed.describe(include='all').transpose()"
   ]
  },
  {
   "cell_type": "markdown",
   "metadata": {},
   "source": [
    "## Which is the disease lethality?"
   ]
  },
  {
   "cell_type": "code",
   "execution_count": 127,
   "metadata": {},
   "outputs": [],
   "source": [
    "dataConfirmed['lethality'] = (dataConfirmed['Deaths'] / (dataConfirmed['Confirmed'])) * 100"
   ]
  },
  {
   "cell_type": "code",
   "execution_count": 128,
   "metadata": {},
   "outputs": [
    {
     "data": {
      "text/plain": [
       "count   2,658.00\n",
       "mean        2.43\n",
       "std         8.18\n",
       "min         0.00\n",
       "25%         0.00\n",
       "50%         0.00\n",
       "75%         1.76\n",
       "max       100.00\n",
       "Name: lethality, dtype: float64"
      ]
     },
     "execution_count": 128,
     "metadata": {},
     "output_type": "execute_result"
    }
   ],
   "source": [
    "dataConfirmed['lethality'].describe()"
   ]
  },
  {
   "cell_type": "code",
   "execution_count": 143,
   "metadata": {},
   "outputs": [
    {
     "data": {
      "text/html": [
       "<div>\n",
       "<style scoped>\n",
       "    .dataframe tbody tr th:only-of-type {\n",
       "        vertical-align: middle;\n",
       "    }\n",
       "\n",
       "    .dataframe tbody tr th {\n",
       "        vertical-align: top;\n",
       "    }\n",
       "\n",
       "    .dataframe thead th {\n",
       "        text-align: right;\n",
       "    }\n",
       "</style>\n",
       "<table border=\"1\" class=\"dataframe\">\n",
       "  <thead>\n",
       "    <tr style=\"text-align: right;\">\n",
       "      <th></th>\n",
       "      <th>FIPS</th>\n",
       "      <th>Admin2</th>\n",
       "      <th>Province_State</th>\n",
       "      <th>Country_Region</th>\n",
       "      <th>Last_Update</th>\n",
       "      <th>Lat</th>\n",
       "      <th>Long_</th>\n",
       "      <th>Confirmed</th>\n",
       "      <th>Deaths</th>\n",
       "      <th>Recovered</th>\n",
       "      <th>Active</th>\n",
       "      <th>Combined_Key</th>\n",
       "      <th>lethality</th>\n",
       "    </tr>\n",
       "  </thead>\n",
       "  <tbody>\n",
       "    <tr>\n",
       "      <th>940</th>\n",
       "      <td>29,083.00</td>\n",
       "      <td>Henry</td>\n",
       "      <td>Missouri</td>\n",
       "      <td>US</td>\n",
       "      <td>2020-04-04 23:34:21</td>\n",
       "      <td>38.38</td>\n",
       "      <td>-93.79</td>\n",
       "      <td>1</td>\n",
       "      <td>1</td>\n",
       "      <td>0</td>\n",
       "      <td>0</td>\n",
       "      <td>Henry, Missouri, US</td>\n",
       "      <td>100.00</td>\n",
       "    </tr>\n",
       "    <tr>\n",
       "      <th>1402</th>\n",
       "      <td>38,049.00</td>\n",
       "      <td>McHenry</td>\n",
       "      <td>North Dakota</td>\n",
       "      <td>US</td>\n",
       "      <td>2020-04-04 23:34:21</td>\n",
       "      <td>48.23</td>\n",
       "      <td>-100.63</td>\n",
       "      <td>1</td>\n",
       "      <td>1</td>\n",
       "      <td>0</td>\n",
       "      <td>0</td>\n",
       "      <td>McHenry, North Dakota, US</td>\n",
       "      <td>100.00</td>\n",
       "    </tr>\n",
       "    <tr>\n",
       "      <th>493</th>\n",
       "      <td>5,029.00</td>\n",
       "      <td>Conway</td>\n",
       "      <td>Arkansas</td>\n",
       "      <td>US</td>\n",
       "      <td>2020-04-04 23:34:21</td>\n",
       "      <td>35.26</td>\n",
       "      <td>-92.71</td>\n",
       "      <td>1</td>\n",
       "      <td>1</td>\n",
       "      <td>0</td>\n",
       "      <td>0</td>\n",
       "      <td>Conway, Arkansas, US</td>\n",
       "      <td>100.00</td>\n",
       "    </tr>\n",
       "    <tr>\n",
       "      <th>2149</th>\n",
       "      <td>90,012.00</td>\n",
       "      <td>Unassigned</td>\n",
       "      <td>Florida</td>\n",
       "      <td>US</td>\n",
       "      <td>2020-04-04 23:34:21</td>\n",
       "      <td>nan</td>\n",
       "      <td>nan</td>\n",
       "      <td>1</td>\n",
       "      <td>1</td>\n",
       "      <td>0</td>\n",
       "      <td>0</td>\n",
       "      <td>Unassigned, Florida, US</td>\n",
       "      <td>100.00</td>\n",
       "    </tr>\n",
       "    <tr>\n",
       "      <th>534</th>\n",
       "      <td>8,025.00</td>\n",
       "      <td>Crowley</td>\n",
       "      <td>Colorado</td>\n",
       "      <td>US</td>\n",
       "      <td>2020-04-04 23:34:21</td>\n",
       "      <td>38.33</td>\n",
       "      <td>-103.78</td>\n",
       "      <td>1</td>\n",
       "      <td>1</td>\n",
       "      <td>0</td>\n",
       "      <td>0</td>\n",
       "      <td>Crowley, Colorado, US</td>\n",
       "      <td>100.00</td>\n",
       "    </tr>\n",
       "    <tr>\n",
       "      <th>...</th>\n",
       "      <td>...</td>\n",
       "      <td>...</td>\n",
       "      <td>...</td>\n",
       "      <td>...</td>\n",
       "      <td>...</td>\n",
       "      <td>...</td>\n",
       "      <td>...</td>\n",
       "      <td>...</td>\n",
       "      <td>...</td>\n",
       "      <td>...</td>\n",
       "      <td>...</td>\n",
       "      <td>...</td>\n",
       "      <td>...</td>\n",
       "    </tr>\n",
       "    <tr>\n",
       "      <th>1093</th>\n",
       "      <td>55,057.00</td>\n",
       "      <td>Juneau</td>\n",
       "      <td>Wisconsin</td>\n",
       "      <td>US</td>\n",
       "      <td>2020-04-04 23:34:21</td>\n",
       "      <td>43.92</td>\n",
       "      <td>-90.11</td>\n",
       "      <td>4</td>\n",
       "      <td>0</td>\n",
       "      <td>0</td>\n",
       "      <td>0</td>\n",
       "      <td>Juneau, Wisconsin, US</td>\n",
       "      <td>0.00</td>\n",
       "    </tr>\n",
       "    <tr>\n",
       "      <th>1092</th>\n",
       "      <td>2,110.00</td>\n",
       "      <td>Juneau</td>\n",
       "      <td>Alaska</td>\n",
       "      <td>US</td>\n",
       "      <td>2020-04-04 23:34:21</td>\n",
       "      <td>58.45</td>\n",
       "      <td>-134.20</td>\n",
       "      <td>12</td>\n",
       "      <td>0</td>\n",
       "      <td>0</td>\n",
       "      <td>0</td>\n",
       "      <td>Juneau, Alaska, US</td>\n",
       "      <td>0.00</td>\n",
       "    </tr>\n",
       "    <tr>\n",
       "      <th>1091</th>\n",
       "      <td>41,033.00</td>\n",
       "      <td>Josephine</td>\n",
       "      <td>Oregon</td>\n",
       "      <td>US</td>\n",
       "      <td>2020-04-04 23:34:21</td>\n",
       "      <td>42.37</td>\n",
       "      <td>-123.56</td>\n",
       "      <td>12</td>\n",
       "      <td>0</td>\n",
       "      <td>0</td>\n",
       "      <td>0</td>\n",
       "      <td>Josephine, Oregon, US</td>\n",
       "      <td>0.00</td>\n",
       "    </tr>\n",
       "    <tr>\n",
       "      <th>1090</th>\n",
       "      <td>28,067.00</td>\n",
       "      <td>Jones</td>\n",
       "      <td>Mississippi</td>\n",
       "      <td>US</td>\n",
       "      <td>2020-04-04 23:34:21</td>\n",
       "      <td>31.62</td>\n",
       "      <td>-89.17</td>\n",
       "      <td>9</td>\n",
       "      <td>0</td>\n",
       "      <td>0</td>\n",
       "      <td>0</td>\n",
       "      <td>Jones, Mississippi, US</td>\n",
       "      <td>0.00</td>\n",
       "    </tr>\n",
       "    <tr>\n",
       "      <th>0</th>\n",
       "      <td>45,001.00</td>\n",
       "      <td>Abbeville</td>\n",
       "      <td>South Carolina</td>\n",
       "      <td>US</td>\n",
       "      <td>2020-04-04 23:34:21</td>\n",
       "      <td>34.22</td>\n",
       "      <td>-82.46</td>\n",
       "      <td>6</td>\n",
       "      <td>0</td>\n",
       "      <td>0</td>\n",
       "      <td>0</td>\n",
       "      <td>Abbeville, South Carolina, US</td>\n",
       "      <td>0.00</td>\n",
       "    </tr>\n",
       "  </tbody>\n",
       "</table>\n",
       "<p>2658 rows × 13 columns</p>\n",
       "</div>"
      ],
      "text/plain": [
       "          FIPS      Admin2  Province_State Country_Region  \\\n",
       "940  29,083.00       Henry        Missouri             US   \n",
       "1402 38,049.00     McHenry    North Dakota             US   \n",
       "493   5,029.00      Conway        Arkansas             US   \n",
       "2149 90,012.00  Unassigned         Florida             US   \n",
       "534   8,025.00     Crowley        Colorado             US   \n",
       "...        ...         ...             ...            ...   \n",
       "1093 55,057.00      Juneau       Wisconsin             US   \n",
       "1092  2,110.00      Juneau          Alaska             US   \n",
       "1091 41,033.00   Josephine          Oregon             US   \n",
       "1090 28,067.00       Jones     Mississippi             US   \n",
       "0    45,001.00   Abbeville  South Carolina             US   \n",
       "\n",
       "              Last_Update   Lat   Long_  Confirmed  Deaths  Recovered  Active  \\\n",
       "940   2020-04-04 23:34:21 38.38  -93.79          1       1          0       0   \n",
       "1402  2020-04-04 23:34:21 48.23 -100.63          1       1          0       0   \n",
       "493   2020-04-04 23:34:21 35.26  -92.71          1       1          0       0   \n",
       "2149  2020-04-04 23:34:21   nan     nan          1       1          0       0   \n",
       "534   2020-04-04 23:34:21 38.33 -103.78          1       1          0       0   \n",
       "...                   ...   ...     ...        ...     ...        ...     ...   \n",
       "1093  2020-04-04 23:34:21 43.92  -90.11          4       0          0       0   \n",
       "1092  2020-04-04 23:34:21 58.45 -134.20         12       0          0       0   \n",
       "1091  2020-04-04 23:34:21 42.37 -123.56         12       0          0       0   \n",
       "1090  2020-04-04 23:34:21 31.62  -89.17          9       0          0       0   \n",
       "0     2020-04-04 23:34:21 34.22  -82.46          6       0          0       0   \n",
       "\n",
       "                       Combined_Key  lethality  \n",
       "940             Henry, Missouri, US     100.00  \n",
       "1402      McHenry, North Dakota, US     100.00  \n",
       "493            Conway, Arkansas, US     100.00  \n",
       "2149        Unassigned, Florida, US     100.00  \n",
       "534           Crowley, Colorado, US     100.00  \n",
       "...                             ...        ...  \n",
       "1093          Juneau, Wisconsin, US       0.00  \n",
       "1092             Juneau, Alaska, US       0.00  \n",
       "1091          Josephine, Oregon, US       0.00  \n",
       "1090         Jones, Mississippi, US       0.00  \n",
       "0     Abbeville, South Carolina, US       0.00  \n",
       "\n",
       "[2658 rows x 13 columns]"
      ]
     },
     "execution_count": 143,
     "metadata": {},
     "output_type": "execute_result"
    }
   ],
   "source": [
    "dataConfirmed.sort_values(by = ['lethality'], ascending=False)"
   ]
  },
  {
   "cell_type": "markdown",
   "metadata": {},
   "source": [
    "### There are so much outliers"
   ]
  },
  {
   "cell_type": "code",
   "execution_count": 190,
   "metadata": {},
   "outputs": [
    {
     "data": {
      "image/png": "[encoded data removed]",
      "text/plain": [
       "<Figure size 432x288 with 1 Axes>"
      ]
     },
     "metadata": {
      "needs_background": "light"
     },
     "output_type": "display_data"
    }
   ],
   "source": [
    "sns.distplot(dataConfirmed['lethality'], kde=False, rug=True);"
   ]
  },
  {
   "cell_type": "code",
   "execution_count": 142,
   "metadata": {},
   "outputs": [
    {
     "data": {
      "text/plain": [
       "<matplotlib.axes._subplots.AxesSubplot at 0x7ff3652b4a50>"
      ]
     },
     "execution_count": 142,
     "metadata": {},
     "output_type": "execute_result"
    },
    {
     "data": {
      "image/png": "[encoded data removed]",
      "text/plain": [
       "<Figure size 432x288 with 1 Axes>"
      ]
     },
     "metadata": {
      "needs_background": "light"
     },
     "output_type": "display_data"
    }
   ],
   "source": [
    "sns.boxplot(dataConfirmed['lethality'])"
   ]
  },
  {
   "cell_type": "code",
   "execution_count": 195,
   "metadata": {},
   "outputs": [
    {
     "data": {
      "image/png": "[encoded data removed]",
      "text/plain": [
       "<Figure size 432x432 with 3 Axes>"
      ]
     },
     "metadata": {
      "needs_background": "light"
     },
     "output_type": "display_data"
    }
   ],
   "source": [
    "sns.jointplot(dataConfirmed['Deaths'], dataConfirmed['Confirmed'], kind=\"reg\");"
   ]
  },
  {
   "cell_type": "code",
   "execution_count": 196,
   "metadata": {},
   "outputs": [
    {
     "data": {
      "image/png": "[encoded data removed]",
      "text/plain": [
       "<Figure size 432x432 with 3 Axes>"
      ]
     },
     "metadata": {
      "needs_background": "light"
     },
     "output_type": "display_data"
    }
   ],
   "source": [
    "sns.jointplot(dataConfirmed['Deaths'], dataConfirmed['lethality'], kind=\"reg\");"
   ]
  },
  {
   "cell_type": "code",
   "execution_count": 197,
   "metadata": {},
   "outputs": [
    {
     "data": {
      "image/png": "[encoded data removed]",
      "text/plain": [
       "<Figure size 432x432 with 3 Axes>"
      ]
     },
     "metadata": {
      "needs_background": "light"
     },
     "output_type": "display_data"
    }
   ],
   "source": [
    "sns.jointplot(dataConfirmed['Confirmed'], dataConfirmed['lethality'], kind=\"reg\");"
   ]
  },
  {
   "cell_type": "code",
   "execution_count": 200,
   "metadata": {},
   "outputs": [
    {
     "data": {
      "image/png": "[encoded data removed]",
      "text/plain": [
       "<Figure size 540x540 with 12 Axes>"
      ]
     },
     "metadata": {
      "needs_background": "light"
     },
     "output_type": "display_data"
    }
   ],
   "source": [
    "sns.pairplot(dataConfirmed[['Confirmed', 'Deaths', 'lethality']]);"
   ]
  },
  {
   "cell_type": "markdown",
   "metadata": {},
   "source": [
    "#### Taking a look into Confirmed and Deaths"
   ]
  },
  {
   "cell_type": "code",
   "execution_count": 147,
   "metadata": {},
   "outputs": [
    {
     "data": {
      "text/plain": [
       "count     2,658.00\n",
       "mean        450.49\n",
       "std       4,950.91\n",
       "min           1.00\n",
       "25%           3.00\n",
       "50%           9.00\n",
       "75%          43.00\n",
       "max     126,168.00\n",
       "Name: Confirmed, dtype: float64"
      ]
     },
     "execution_count": 147,
     "metadata": {},
     "output_type": "execute_result"
    }
   ],
   "source": [
    "dataConfirmed['Confirmed'].describe()"
   ]
  },
  {
   "cell_type": "code",
   "execution_count": 148,
   "metadata": {},
   "outputs": [
    {
     "data": {
      "text/plain": [
       "count    2,658.00\n",
       "mean        23.83\n",
       "std        428.15\n",
       "min          0.00\n",
       "25%          0.00\n",
       "50%          0.00\n",
       "75%          1.00\n",
       "max     15,362.00\n",
       "Name: Deaths, dtype: float64"
      ]
     },
     "execution_count": 148,
     "metadata": {},
     "output_type": "execute_result"
    }
   ],
   "source": [
    "dataConfirmed['Deaths'].describe()"
   ]
  },
  {
   "cell_type": "markdown",
   "metadata": {},
   "source": [
    "### The useful limit"
   ]
  },
  {
   "cell_type": "code",
   "execution_count": 254,
   "metadata": {},
   "outputs": [],
   "source": [
    "rate = 20.00"
   ]
  },
  {
   "cell_type": "markdown",
   "metadata": {},
   "source": [
    "### Number of places with lethality greater than useful limit"
   ]
  },
  {
   "cell_type": "code",
   "execution_count": 255,
   "metadata": {},
   "outputs": [
    {
     "name": "stdout",
     "output_type": "stream",
     "text": [
      "Number of places 54 from a total of 2658 , or 2.03 % of the sample\n",
      "\n",
      "Number of confirmed 224 from a total of 1197392 , or 0.02 % of the sample\n",
      "\n",
      "Number of deaths 69 from a total of 63353 , or 0.11 % of the sample\n",
      "\n",
      "Lethality 30.8 %\n"
     ]
    }
   ],
   "source": [
    "totalPlaces = dataConfirmed.shape[0]\n",
    "places = dataConfirmed[dataConfirmed['lethality'] > rate]['Confirmed'].count()\n",
    "\n",
    "totalConfirmed = dataConfirmed['Confirmed'].sum()\n",
    "confirmed = dataConfirmed[dataConfirmed['lethality'] > rate]['Confirmed'].sum()\n",
    "\n",
    "totalDeaths = dataConfirmed['Deaths'].sum()\n",
    "deaths = dataConfirmed[dataConfirmed['lethality'] > rate]['Deaths'].sum()\n",
    "\n",
    "lethality = (deaths / confirmed) * 100\n",
    "\n",
    "print(\"Number of places\", places, \"from a total of\", totalPlaces, \", or\", \n",
    "      round((places/totalPlaces) * 100, 2), \"% of the sample\\n\")\n",
    "\n",
    "print(\"Number of confirmed\", confirmed, \"from a total of\", totalConfirmed, \", or\", \n",
    "     round((confirmed/totalConfirmed) * 100, 2), \"% of the sample\\n\")\n",
    "\n",
    "print(\"Number of deaths\", deaths, \"from a total of\", totalDeaths, \", or\", \n",
    "     round((deaths/totalDeaths) * 100, 2), \"% of the sample\\n\")\n",
    "\n",
    "print(\"Lethality\", round(lethality, 2), \"%\")"
   ]
  },
  {
   "cell_type": "markdown",
   "metadata": {},
   "source": [
    "### Taking in accounting relevant data, lethality less than useful limit"
   ]
  },
  {
   "cell_type": "code",
   "execution_count": 256,
   "metadata": {},
   "outputs": [
    {
     "name": "stdout",
     "output_type": "stream",
     "text": [
      "Confirmed places with Covid-19 2604\n"
     ]
    }
   ],
   "source": [
    "dataLess = dataConfirmed[dataConfirmed['lethality'] <= rate].copy()\n",
    "print(\"Confirmed places with Covid-19\", dataLess.shape[0])"
   ]
  },
  {
   "cell_type": "code",
   "execution_count": 257,
   "metadata": {},
   "outputs": [
    {
     "data": {
      "text/plain": [
       "count   2,604.00\n",
       "mean        1.53\n",
       "std         3.34\n",
       "min         0.00\n",
       "25%         0.00\n",
       "50%         0.00\n",
       "75%         1.57\n",
       "max        20.00\n",
       "Name: lethality, dtype: float64"
      ]
     },
     "execution_count": 257,
     "metadata": {},
     "output_type": "execute_result"
    }
   ],
   "source": [
    "dataLess['lethality'].describe()"
   ]
  },
  {
   "cell_type": "code",
   "execution_count": 258,
   "metadata": {},
   "outputs": [
    {
     "data": {
      "image/png": "[encoded data removed]",
      "text/plain": [
       "<Figure size 432x288 with 1 Axes>"
      ]
     },
     "metadata": {
      "needs_background": "light"
     },
     "output_type": "display_data"
    }
   ],
   "source": [
    "sns.distplot(dataLess['lethality'], kde=False, rug=True);"
   ]
  },
  {
   "cell_type": "code",
   "execution_count": 259,
   "metadata": {},
   "outputs": [
    {
     "data": {
      "image/png": "[encoded data removed]",
      "text/plain": [
       "<Figure size 432x288 with 1 Axes>"
      ]
     },
     "metadata": {
      "needs_background": "light"
     },
     "output_type": "display_data"
    }
   ],
   "source": [
    "sns.boxplot(dataLess['lethality']);"
   ]
  },
  {
   "cell_type": "code",
   "execution_count": 260,
   "metadata": {},
   "outputs": [
    {
     "data": {
      "image/png": "[encoded data removed]",
      "text/plain": [
       "<Figure size 432x432 with 3 Axes>"
      ]
     },
     "metadata": {
      "needs_background": "light"
     },
     "output_type": "display_data"
    }
   ],
   "source": [
    "sns.jointplot(dataLess['Deaths'], dataLess['lethality'], kind=\"reg\");"
   ]
  },
  {
   "cell_type": "code",
   "execution_count": 261,
   "metadata": {},
   "outputs": [
    {
     "data": {
      "image/png": "[encoded data removed]",
      "text/plain": [
       "<Figure size 432x432 with 3 Axes>"
      ]
     },
     "metadata": {
      "needs_background": "light"
     },
     "output_type": "display_data"
    }
   ],
   "source": [
    "sns.jointplot(dataLess['Confirmed'], dataLess['lethality'], kind=\"reg\");"
   ]
  },
  {
   "cell_type": "code",
   "execution_count": null,
   "metadata": {},
   "outputs": [],
   "source": []
  },
  {
   "cell_type": "code",
   "execution_count": null,
   "metadata": {},
   "outputs": [],
   "source": [
    "# sns.boxplot(dataLess['Combined_Key'], dataLess['lethality']);"
   ]
  },
  {
   "cell_type": "markdown",
   "metadata": {},
   "source": [
    "### Italy and  Spain cases"
   ]
  },
  {
   "cell_type": "code",
   "execution_count": 286,
   "metadata": {},
   "outputs": [],
   "source": [
    "# data[data['Country_Region'] == 'Italy']\n",
    "dfItalySpain = dataLess[dataLess['Country_Region'].isin(['Italy', 'Spain'])].copy()\n",
    "dfItalySpain.drop(['FIPS', 'Admin2', 'Province_State'], axis=1, inplace=True)"
   ]
  },
  {
   "cell_type": "code",
   "execution_count": 287,
   "metadata": {},
   "outputs": [
    {
     "data": {
      "text/html": [
       "<div>\n",
       "<style scoped>\n",
       "    .dataframe tbody tr th:only-of-type {\n",
       "        vertical-align: middle;\n",
       "    }\n",
       "\n",
       "    .dataframe tbody tr th {\n",
       "        vertical-align: top;\n",
       "    }\n",
       "\n",
       "    .dataframe thead th {\n",
       "        text-align: right;\n",
       "    }\n",
       "</style>\n",
       "<table border=\"1\" class=\"dataframe\">\n",
       "  <thead>\n",
       "    <tr style=\"text-align: right;\">\n",
       "      <th></th>\n",
       "      <th>Country_Region</th>\n",
       "      <th>Last_Update</th>\n",
       "      <th>Lat</th>\n",
       "      <th>Long_</th>\n",
       "      <th>Confirmed</th>\n",
       "      <th>Deaths</th>\n",
       "      <th>Recovered</th>\n",
       "      <th>Active</th>\n",
       "      <th>Combined_Key</th>\n",
       "      <th>lethality</th>\n",
       "    </tr>\n",
       "  </thead>\n",
       "  <tbody>\n",
       "    <tr>\n",
       "      <th>2582</th>\n",
       "      <td>Italy</td>\n",
       "      <td>2020-04-04 23:34:04</td>\n",
       "      <td>41.87</td>\n",
       "      <td>12.57</td>\n",
       "      <td>124632</td>\n",
       "      <td>15362</td>\n",
       "      <td>20996</td>\n",
       "      <td>88274</td>\n",
       "      <td>Italy</td>\n",
       "      <td>12.33</td>\n",
       "    </tr>\n",
       "    <tr>\n",
       "      <th>2652</th>\n",
       "      <td>Spain</td>\n",
       "      <td>2020-04-04 23:34:04</td>\n",
       "      <td>40.46</td>\n",
       "      <td>-3.75</td>\n",
       "      <td>126168</td>\n",
       "      <td>11947</td>\n",
       "      <td>34219</td>\n",
       "      <td>80002</td>\n",
       "      <td>Spain</td>\n",
       "      <td>9.47</td>\n",
       "    </tr>\n",
       "  </tbody>\n",
       "</table>\n",
       "</div>"
      ],
      "text/plain": [
       "     Country_Region          Last_Update   Lat  Long_  Confirmed  Deaths  \\\n",
       "2582          Italy  2020-04-04 23:34:04 41.87  12.57     124632   15362   \n",
       "2652          Spain  2020-04-04 23:34:04 40.46  -3.75     126168   11947   \n",
       "\n",
       "      Recovered  Active Combined_Key  lethality  \n",
       "2582      20996   88274        Italy      12.33  \n",
       "2652      34219   80002        Spain       9.47  "
      ]
     },
     "execution_count": 287,
     "metadata": {},
     "output_type": "execute_result"
    }
   ],
   "source": [
    "dfItalySpain"
   ]
  },
  {
   "cell_type": "markdown",
   "metadata": {},
   "source": [
    "### US case"
   ]
  },
  {
   "cell_type": "code",
   "execution_count": 303,
   "metadata": {},
   "outputs": [
    {
     "data": {
      "text/html": [
       "<div>\n",
       "<style scoped>\n",
       "    .dataframe tbody tr th:only-of-type {\n",
       "        vertical-align: middle;\n",
       "    }\n",
       "\n",
       "    .dataframe tbody tr th {\n",
       "        vertical-align: top;\n",
       "    }\n",
       "\n",
       "    .dataframe thead th {\n",
       "        text-align: right;\n",
       "    }\n",
       "</style>\n",
       "<table border=\"1\" class=\"dataframe\">\n",
       "  <thead>\n",
       "    <tr style=\"text-align: right;\">\n",
       "      <th></th>\n",
       "      <th>FIPS</th>\n",
       "      <th>Admin2</th>\n",
       "      <th>Province_State</th>\n",
       "      <th>Country_Region</th>\n",
       "      <th>Last_Update</th>\n",
       "      <th>Lat</th>\n",
       "      <th>Long_</th>\n",
       "      <th>Confirmed</th>\n",
       "      <th>Deaths</th>\n",
       "      <th>Recovered</th>\n",
       "      <th>Active</th>\n",
       "      <th>Combined_Key</th>\n",
       "      <th>lethality</th>\n",
       "    </tr>\n",
       "  </thead>\n",
       "  <tbody>\n",
       "    <tr>\n",
       "      <th>0</th>\n",
       "      <td>45,001.00</td>\n",
       "      <td>Abbeville</td>\n",
       "      <td>South Carolina</td>\n",
       "      <td>US</td>\n",
       "      <td>2020-04-04 23:34:21</td>\n",
       "      <td>34.22</td>\n",
       "      <td>-82.46</td>\n",
       "      <td>6</td>\n",
       "      <td>0</td>\n",
       "      <td>0</td>\n",
       "      <td>0</td>\n",
       "      <td>Abbeville, South Carolina, US</td>\n",
       "      <td>0.00</td>\n",
       "    </tr>\n",
       "    <tr>\n",
       "      <th>1</th>\n",
       "      <td>22,001.00</td>\n",
       "      <td>Acadia</td>\n",
       "      <td>Louisiana</td>\n",
       "      <td>US</td>\n",
       "      <td>2020-04-04 23:34:21</td>\n",
       "      <td>30.30</td>\n",
       "      <td>-92.41</td>\n",
       "      <td>65</td>\n",
       "      <td>2</td>\n",
       "      <td>0</td>\n",
       "      <td>0</td>\n",
       "      <td>Acadia, Louisiana, US</td>\n",
       "      <td>3.08</td>\n",
       "    </tr>\n",
       "    <tr>\n",
       "      <th>2</th>\n",
       "      <td>51,001.00</td>\n",
       "      <td>Accomack</td>\n",
       "      <td>Virginia</td>\n",
       "      <td>US</td>\n",
       "      <td>2020-04-04 23:34:21</td>\n",
       "      <td>37.77</td>\n",
       "      <td>-75.63</td>\n",
       "      <td>8</td>\n",
       "      <td>0</td>\n",
       "      <td>0</td>\n",
       "      <td>0</td>\n",
       "      <td>Accomack, Virginia, US</td>\n",
       "      <td>0.00</td>\n",
       "    </tr>\n",
       "    <tr>\n",
       "      <th>3</th>\n",
       "      <td>16,001.00</td>\n",
       "      <td>Ada</td>\n",
       "      <td>Idaho</td>\n",
       "      <td>US</td>\n",
       "      <td>2020-04-04 23:34:21</td>\n",
       "      <td>43.45</td>\n",
       "      <td>-116.24</td>\n",
       "      <td>360</td>\n",
       "      <td>3</td>\n",
       "      <td>0</td>\n",
       "      <td>0</td>\n",
       "      <td>Ada, Idaho, US</td>\n",
       "      <td>0.83</td>\n",
       "    </tr>\n",
       "    <tr>\n",
       "      <th>4</th>\n",
       "      <td>19,001.00</td>\n",
       "      <td>Adair</td>\n",
       "      <td>Iowa</td>\n",
       "      <td>US</td>\n",
       "      <td>2020-04-04 23:34:21</td>\n",
       "      <td>41.33</td>\n",
       "      <td>-94.47</td>\n",
       "      <td>1</td>\n",
       "      <td>0</td>\n",
       "      <td>0</td>\n",
       "      <td>0</td>\n",
       "      <td>Adair, Iowa, US</td>\n",
       "      <td>0.00</td>\n",
       "    </tr>\n",
       "  </tbody>\n",
       "</table>\n",
       "</div>"
      ],
      "text/plain": [
       "       FIPS     Admin2  Province_State Country_Region          Last_Update  \\\n",
       "0 45,001.00  Abbeville  South Carolina             US  2020-04-04 23:34:21   \n",
       "1 22,001.00     Acadia       Louisiana             US  2020-04-04 23:34:21   \n",
       "2 51,001.00   Accomack        Virginia             US  2020-04-04 23:34:21   \n",
       "3 16,001.00        Ada           Idaho             US  2020-04-04 23:34:21   \n",
       "4 19,001.00      Adair            Iowa             US  2020-04-04 23:34:21   \n",
       "\n",
       "    Lat   Long_  Confirmed  Deaths  Recovered  Active  \\\n",
       "0 34.22  -82.46          6       0          0       0   \n",
       "1 30.30  -92.41         65       2          0       0   \n",
       "2 37.77  -75.63          8       0          0       0   \n",
       "3 43.45 -116.24        360       3          0       0   \n",
       "4 41.33  -94.47          1       0          0       0   \n",
       "\n",
       "                    Combined_Key  lethality  \n",
       "0  Abbeville, South Carolina, US       0.00  \n",
       "1          Acadia, Louisiana, US       3.08  \n",
       "2         Accomack, Virginia, US       0.00  \n",
       "3                 Ada, Idaho, US       0.83  \n",
       "4                Adair, Iowa, US       0.00  "
      ]
     },
     "execution_count": 303,
     "metadata": {},
     "output_type": "execute_result"
    }
   ],
   "source": [
    "dfUS = dataLess[dataLess['Country_Region'] == 'US'].copy()\n",
    "dfUS.head()"
   ]
  },
  {
   "cell_type": "code",
   "execution_count": 311,
   "metadata": {},
   "outputs": [
    {
     "name": "stdout",
     "output_type": "stream",
     "text": [
      "Places in US: 2351 from a total of 2604 , or 90.28 % of all data\n"
     ]
    }
   ],
   "source": [
    "print(\"Places in US:\", dfUS.shape[0], \"from a total of\", dataLess.shape[0], \", or\",\n",
    "     round((dfUS.shape[0]/dataLess.shape[0]) * 100, 2), \"% of all data\")"
   ]
  },
  {
   "cell_type": "code",
   "execution_count": 322,
   "metadata": {},
   "outputs": [
    {
     "data": {
      "text/plain": [
       "'2020-04-04 23:34:21'"
      ]
     },
     "execution_count": 322,
     "metadata": {},
     "output_type": "execute_result"
    }
   ],
   "source": [
    "lastUpdate = dfUS['Last_Update'].unique()[0]\n",
    "lastUpdate"
   ]
  },
  {
   "cell_type": "code",
   "execution_count": 350,
   "metadata": {},
   "outputs": [
    {
     "data": {
      "text/plain": [
       "{'Last_Update': ['2020-04-04 23:34:21'],\n",
       " 'Confirmed': [308630],\n",
       " 'Deaths': [7090],\n",
       " 'Recovered': [0],\n",
       " 'Active': [0],\n",
       " 'lethality': [2.3]}"
      ]
     },
     "execution_count": 350,
     "metadata": {},
     "output_type": "execute_result"
    }
   ],
   "source": [
    "confirmed = dfUS['Confirmed'].sum()\n",
    "deaths = dfUS['Deaths'].sum()\n",
    "recovered = dfUS['Recovered'].sum()\n",
    "active = dfUS['Active'].sum()\n",
    "\n",
    "dictUS = { \n",
    "    \"Last_Update\": [lastUpdate],\n",
    "    \"Confirmed\": [confirmed], \n",
    "    \"Deaths\": [deaths],\n",
    "    \"Recovered\": [recovered],\n",
    "    \"Active\": [active],\n",
    "    \"lethality\": [round((deaths/confirmed) * 100, 2)]\n",
    "}\n",
    "\n",
    "dictUS"
   ]
  },
  {
   "cell_type": "code",
   "execution_count": 351,
   "metadata": {},
   "outputs": [
    {
     "data": {
      "text/html": [
       "<div>\n",
       "<style scoped>\n",
       "    .dataframe tbody tr th:only-of-type {\n",
       "        vertical-align: middle;\n",
       "    }\n",
       "\n",
       "    .dataframe tbody tr th {\n",
       "        vertical-align: top;\n",
       "    }\n",
       "\n",
       "    .dataframe thead th {\n",
       "        text-align: right;\n",
       "    }\n",
       "</style>\n",
       "<table border=\"1\" class=\"dataframe\">\n",
       "  <thead>\n",
       "    <tr style=\"text-align: right;\">\n",
       "      <th></th>\n",
       "      <th>Last_Update</th>\n",
       "      <th>Confirmed</th>\n",
       "      <th>Deaths</th>\n",
       "      <th>Recovered</th>\n",
       "      <th>Active</th>\n",
       "      <th>lethality</th>\n",
       "    </tr>\n",
       "  </thead>\n",
       "  <tbody>\n",
       "    <tr>\n",
       "      <th>0</th>\n",
       "      <td>2020-04-04 23:34:21</td>\n",
       "      <td>308630</td>\n",
       "      <td>7090</td>\n",
       "      <td>0</td>\n",
       "      <td>0</td>\n",
       "      <td>2.30</td>\n",
       "    </tr>\n",
       "  </tbody>\n",
       "</table>\n",
       "</div>"
      ],
      "text/plain": [
       "           Last_Update  Confirmed  Deaths  Recovered  Active  lethality\n",
       "0  2020-04-04 23:34:21     308630    7090          0       0       2.30"
      ]
     },
     "execution_count": 351,
     "metadata": {},
     "output_type": "execute_result"
    }
   ],
   "source": [
    "pd.DataFrame(data=dictUS)"
   ]
  },
  {
   "cell_type": "code",
   "execution_count": null,
   "metadata": {},
   "outputs": [],
   "source": []
  }
 ],
 "metadata": {
  "kernelspec": {
   "display_name": "Python 3",
   "language": "python",
   "name": "python3"
  },
  "language_info": {
   "codemirror_mode": {
    "name": "ipython",
    "version": 3
   },
   "file_extension": ".py",
   "mimetype": "text/x-python",
   "name": "python",
   "nbconvert_exporter": "python",
   "pygments_lexer": "ipython3",
   "version": "3.7.4"
  }
 },
 "nbformat": 4,
 "nbformat_minor": 2
}
